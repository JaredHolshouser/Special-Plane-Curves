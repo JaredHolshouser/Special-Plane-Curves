{
 "cells": [
  {
   "cell_type": "code",
   "execution_count": 1,
   "metadata": {
    "collapsed": false
   },
   "outputs": [
   ],
   "source": [
    "from __future__ import print_function\n",
    "from ipywidgets import interact, interactive, fixed, interact_manual\n",
    "import ipywidgets as widgets"
   ]
  },
  {
   "cell_type": "code",
   "execution_count": 2,
   "metadata": {
    "collapsed": false
   },
   "outputs": [
   ],
   "source": [
    "def x_expr(x):\n",
    "    return x\n",
    "def y_expr(y):\n",
    "    return y\n",
    "def t_min_in(minimum=-1):\n",
    "    return minimum\n",
    "def t_max_in(maximum=1):\n",
    "    return maximum"
   ]
  },
  {
   "cell_type": "markdown",
   "metadata": {
    "collapsed": false
   },
   "source": [
    "Write an expression for the x coordinate in terms of t."
   ]
  },
  {
   "cell_type": "code",
   "execution_count": 3,
   "metadata": {
    "collapsed": false
   },
   "outputs": [
    {
     "data": {
      "application/vnd.jupyter.widget-view+json": {
       "model_id": "afbca2dd0e0946fd84d0bcafe93232cb",
       "version_major": 2,
       "version_minor": 0
      },
      "text/plain": [
       "interactive(children=(Text(value='t', description='x'), Output()), _dom_classes=('widget-interact',))"
      ]
     },
     "execution_count": 3,
     "metadata": {
     },
     "output_type": "execute_result"
    }
   ],
   "source": [
    "x_interact = interactive(x_expr,x=\"t\")\n",
    "display(x_interact)"
   ]
  },
  {
   "cell_type": "markdown",
   "metadata": {
    "collapsed": false
   },
   "source": [
    "Write an expression for the y coordinate in terms of t"
   ]
  },
  {
   "cell_type": "code",
   "execution_count": 4,
   "metadata": {
    "collapsed": false
   },
   "outputs": [
    {
     "data": {
      "application/vnd.jupyter.widget-view+json": {
       "model_id": "a880cf3c741343f188cefd51995a92eb",
       "version_major": 2,
       "version_minor": 0
      },
      "text/plain": [
       "interactive(children=(Text(value='t^2', description='y'), Output()), _dom_classes=('widget-interact',))"
      ]
     },
     "execution_count": 4,
     "metadata": {
     },
     "output_type": "execute_result"
    }
   ],
   "source": [
    "y_interact = interactive(y_expr,y=\"t^2\")\n",
    "display(y_interact)"
   ]
  },
  {
   "cell_type": "markdown",
   "metadata": {
    "collapsed": false
   },
   "source": [
    "Specify the minimum t value"
   ]
  },
  {
   "cell_type": "code",
   "execution_count": 5,
   "metadata": {
    "collapsed": false
   },
   "outputs": [
    {
     "data": {
      "application/vnd.jupyter.widget-view+json": {
       "model_id": "9b74a95c64c5427aa952d3b7200d0269",
       "version_major": 2,
       "version_minor": 0
      },
      "text/plain": [
       "interactive(children=(FloatSlider(value=-1.0, description='minimum', max=-0.1, min=-5.0), Output()), _dom_clas…"
      ]
     },
     "execution_count": 5,
     "metadata": {
     },
     "output_type": "execute_result"
    }
   ],
   "source": [
    "t_min_var = interactive(t_min_in,minimum=(-5,-0.1))\n",
    "display(t_min_var)"
   ]
  },
  {
   "cell_type": "markdown",
   "metadata": {
    "collapsed": false
   },
   "source": [
    "Specify the maximum t value"
   ]
  },
  {
   "cell_type": "code",
   "execution_count": 6,
   "metadata": {
    "collapsed": false
   },
   "outputs": [
    {
     "data": {
      "application/vnd.jupyter.widget-view+json": {
       "model_id": "801d7fbd191e45af9ca19a47a17dd3c9",
       "version_major": 2,
       "version_minor": 0
      },
      "text/plain": [
       "interactive(children=(FloatSlider(value=1.0, description='maximum', max=5.0, min=0.1), Output()), _dom_classes…"
      ]
     },
     "execution_count": 6,
     "metadata": {
     },
     "output_type": "execute_result"
    }
   ],
   "source": [
    "t_max_var = interactive(t_max_in,maximum=(0.1,5))\n",
    "display(t_max_var)"
   ]
  },
  {
   "cell_type": "code",
   "execution_count": 7,
   "metadata": {
    "collapsed": false
   },
   "outputs": [
   ],
   "source": [
    "x(t) = x_interact.result\n",
    "y(t) = y_interact.result\n",
    "t_min = t_min_var.result\n",
    "t_max = t_max_var.result"
   ]
  },
  {
   "cell_type": "code",
   "execution_count": 8,
   "metadata": {
    "collapsed": false
   },
   "outputs": [
    {
     "data": {
      "image/png": "[encoded data removed]",
      "text/plain": [
       "Graphics object consisting of 1 graphics primitive"
      ]
     },
     "execution_count": 8,
     "metadata": {
     },
     "output_type": "execute_result"
    }
   ],
   "source": [
    "original_graph = parametric_plot((x,y), (t_min,t_max))\n",
    "original_graph"
   ]
  },
  {
   "cell_type": "markdown",
   "metadata": {
    "collapsed": false
   },
   "source": [
    "# Evolutes \\(Huygens, 1673; Tucker, 1864\\)\n",
    "\n"
   ]
  },
  {
   "cell_type": "markdown",
   "metadata": {
    "collapsed": false
   },
   "source": [
    "## Definition\n",
    "\n"
   ]
  },
  {
   "cell_type": "markdown",
   "metadata": {
    "collapsed": false
   },
   "source": [
    "The **evolute** of a curve $C$ is the locus of its center of curvature. Fix a point $(x,y)$ on the curve $C$ and set $(x_e,y_e)$ to be the center of the circle of curvature for $(x,y)$ on $C$. Say the curvature at $(x,y)$ of $C$ is $K$ and that $(x,y)$ is at angle $\\phi$ on the circle, from the top down. Then\n",
    "$$\n",
    "x - x_e = \\rho\\sin(\\phi) \\implies \\alpha = x - \\rho\\sin(\\phi)\n",
    "$$\n",
    "and\n",
    "$$\n",
    "y - y_e = -\\rho\\cos(\\phi) \\implies \\beta = y + \\rho\\cos(\\phi),\n",
    "$$\n",
    "Where $\\rho = \\frac{1}{K}$. Notice that $\\tan(\\phi) = \\frac{y'}{x'}$, so\n",
    "$$\n",
    "\\sin(\\phi) = \\frac{y'}{\\sqrt{(x')^2 + (y')^2}} \\text{ and } \\cos(\\phi) = \\frac{x'}{\\sqrt{(x')^2 + (y')^2}}.\n",
    "$$\n",
    "Now recall that $K$ has formula\n",
    "$$\n",
    "K = \\frac{x'y'' - y''x'}{[(x')^2 + (y')^2]^{3/2}} \\implies \\rho = \\frac{[(x')^2 + (y')^2]^{3/2}}{x'y'' - y''x'}.\n",
    "$$\n",
    "Thus\n",
    "$$\n",
    "x_e = x - \\frac{[(x')^2 + (y')^2]^{3/2}}{x'y'' - y''x'} \\cdot \\frac{y'}{\\sqrt{(x')^2 + (y')^2}} = x - y'\\frac{(x')^2 + (y')^2}{x'y'' - x''y'}\n",
    "$$\n",
    "and\n",
    "$$\n",
    "y_e = y + \\frac{[(x')^2 + (y')^2]^{3/2}}{x'y'' - y''x'}\\frac{x'}{\\sqrt{(x')^2 + (y')^2}} = y + x'\\frac{(x')^2 + (y')^2}{x'y'' - x''y'}.\n",
    "$$"
   ]
  },
  {
   "cell_type": "markdown",
   "metadata": {
    "collapsed": false
   },
   "source": [
    "## Graph of the Evolute\n",
    "\n"
   ]
  },
  {
   "cell_type": "code",
   "execution_count": 9,
   "metadata": {
    "collapsed": false
   },
   "outputs": [
   ],
   "source": [
    "x_prime = derivative(x,t)\n",
    "x_pprime = derivative(x_prime,t)\n",
    "y_prime = derivative(y,t)\n",
    "y_pprime = derivative(y_prime,t)"
   ]
  },
  {
   "cell_type": "code",
   "execution_count": 10,
   "metadata": {
    "collapsed": false
   },
   "outputs": [
   ],
   "source": [
    "x_evol = x - y_prime*(x_prime^2 + y_prime^2)/(x_prime*y_pprime - y_prime*x_pprime)\n",
    "y_evol = y + x_prime*(x_prime^2 + y_prime^2)/(x_prime*y_pprime - y_prime*x_pprime)\n",
    "x_evol_simple = x_evol.full_simplify()\n",
    "y_evol_simple = y_evol.full_simplify()"
   ]
  },
  {
   "cell_type": "code",
   "execution_count": 11,
   "metadata": {
    "collapsed": false
   },
   "outputs": [
    {
     "data": {
      "image/png": "[encoded data removed]",
      "text/plain": [
       "Graphics object consisting of 2 graphics primitives"
      ]
     },
     "execution_count": 11,
     "metadata": {
     },
     "output_type": "execute_result"
    }
   ],
   "source": [
    "evolute_graph = parametric_plot((x_evol_simple,y_evol_simple),(t_min,t_max), color = 'red')\n",
    "original_graph + evolute_graph"
   ]
  },
  {
   "cell_type": "markdown",
   "metadata": {
    "collapsed": false
   },
   "source": [
    "## Parametric Equation of the Evolute"
   ]
  },
  {
   "cell_type": "markdown",
   "metadata": {
    "collapsed": false
   },
   "source": [
    "The formula for the x-coordinate of the evolute is:"
   ]
  },
  {
   "cell_type": "code",
   "execution_count": 12,
   "metadata": {
    "collapsed": false
   },
   "outputs": [
    {
     "data": {
      "text/html": [
       "<html>\\[\\newcommand{\\Bold}[1]{\\mathbf{#1}}-4 \\, t^{3}\\]</html>"
      ],
      "text/latex": [
       "$$\\newcommand{\\Bold}[1]{\\mathbf{#1}}-4 \\, t^{3}$$"
      ],
      "text/plain": [
       "-4*t^3"
      ]
     },
     "execution_count": 12,
     "metadata": {
     },
     "output_type": "execute_result"
    }
   ],
   "source": [
    "pretty_print(x_evol_simple)"
   ]
  },
  {
   "cell_type": "markdown",
   "metadata": {
    "collapsed": false
   },
   "source": [
    "The formula for the y-coordinate of the evolute is:\n"
   ]
  },
  {
   "cell_type": "code",
   "execution_count": 13,
   "metadata": {
    "collapsed": false
   },
   "outputs": [
    {
     "data": {
      "text/html": [
       "<html>\\[\\newcommand{\\Bold}[1]{\\mathbf{#1}}3 \\, t^{2} + \\frac{1}{2}\\]</html>"
      ],
      "text/latex": [
       "$$\\newcommand{\\Bold}[1]{\\mathbf{#1}}3 \\, t^{2} + \\frac{1}{2}$$"
      ],
      "text/plain": [
       "3*t^2 + 1/2"
      ]
     },
     "execution_count": 13,
     "metadata": {
     },
     "output_type": "execute_result"
    }
   ],
   "source": [
    "pretty_print(y_evol_simple)"
   ]
  }
 ],
 "metadata": {
  "kernelspec": {
   "display_name": "SageMath 9.5",
   "language": "sagemath",
   "metadata": {
    "cocalc": {
     "description": "Open-source mathematical software system",
     "priority": 10,
     "url": "https://www.sagemath.org/"
    }
   },
   "name": "sage-9.5",
   "resource_dir": "/ext/jupyter/kernels/sage-9.5"
  },
  "language_info": {
   "codemirror_mode": {
    "name": "ipython",
    "version": 3
   },
   "file_extension": ".py",
   "mimetype": "text/x-python",
   "name": "python",
   "nbconvert_exporter": "python",
   "pygments_lexer": "ipython3",
   "version": "3.9.9"
  }
 },
 "nbformat": 4,
 "nbformat_minor": 4
}